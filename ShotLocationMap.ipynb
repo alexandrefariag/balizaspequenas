{
 "cells": [
  {
   "cell_type": "code",
   "execution_count": 51,
   "id": "837be66a",
   "metadata": {},
   "outputs": [
    {
     "name": "stdout",
     "output_type": "stream",
     "text": [
      "Requirement already satisfied: mplsoccer in /opt/conda/lib/python3.9/site-packages (1.0.5)\n",
      "Requirement already satisfied: numpy in /opt/conda/lib/python3.9/site-packages (from mplsoccer) (1.20.2)\n",
      "Requirement already satisfied: matplotlib in /opt/conda/lib/python3.9/site-packages (from mplsoccer) (3.4.1)\n",
      "Requirement already satisfied: beautifulsoup4 in /opt/conda/lib/python3.9/site-packages (from mplsoccer) (4.9.3)\n",
      "Requirement already satisfied: seaborn in /opt/conda/lib/python3.9/site-packages (from mplsoccer) (0.11.1)\n",
      "Requirement already satisfied: pandas in /opt/conda/lib/python3.9/site-packages (from mplsoccer) (1.2.4)\n",
      "Requirement already satisfied: pillow in /opt/conda/lib/python3.9/site-packages (from mplsoccer) (8.1.2)\n",
      "Requirement already satisfied: scipy in /opt/conda/lib/python3.9/site-packages (from mplsoccer) (1.6.3)\n",
      "Requirement already satisfied: soupsieve>1.2 in /opt/conda/lib/python3.9/site-packages (from beautifulsoup4->mplsoccer) (2.0.1)\n",
      "Requirement already satisfied: python-dateutil>=2.7 in /opt/conda/lib/python3.9/site-packages (from matplotlib->mplsoccer) (2.8.1)\n",
      "Requirement already satisfied: pyparsing>=2.2.1 in /opt/conda/lib/python3.9/site-packages (from matplotlib->mplsoccer) (2.4.7)\n",
      "Requirement already satisfied: cycler>=0.10 in /opt/conda/lib/python3.9/site-packages (from matplotlib->mplsoccer) (0.10.0)\n",
      "Requirement already satisfied: kiwisolver>=1.0.1 in /opt/conda/lib/python3.9/site-packages (from matplotlib->mplsoccer) (1.3.1)\n",
      "Requirement already satisfied: six in /opt/conda/lib/python3.9/site-packages (from cycler>=0.10->matplotlib->mplsoccer) (1.16.0)\n",
      "Requirement already satisfied: pytz>=2017.3 in /opt/conda/lib/python3.9/site-packages (from pandas->mplsoccer) (2021.1)\n"
     ]
    }
   ],
   "source": [
    "# Install dependencies\n",
    "import sys\n",
    "!{sys.executable} -m pip install mplsoccer"
   ]
  },
  {
   "cell_type": "code",
   "execution_count": 110,
   "id": "14e6aba7",
   "metadata": {},
   "outputs": [],
   "source": [
    "import matplotlib as mpl\n",
    "import matplotlib.pyplot as plt\n",
    "import pandas as pd\n",
    "from mplsoccer import Pitch, VerticalPitch"
   ]
  },
  {
   "cell_type": "code",
   "execution_count": 111,
   "id": "95bca24a",
   "metadata": {},
   "outputs": [],
   "source": [
    "data = pd.read_csv('../teste3.csv')"
   ]
  },
  {
   "cell_type": "code",
   "execution_count": 112,
   "id": "e33427dc",
   "metadata": {},
   "outputs": [
    {
     "data": {
      "text/html": [
       "<div>\n",
       "<style scoped>\n",
       "    .dataframe tbody tr th:only-of-type {\n",
       "        vertical-align: middle;\n",
       "    }\n",
       "\n",
       "    .dataframe tbody tr th {\n",
       "        vertical-align: top;\n",
       "    }\n",
       "\n",
       "    .dataframe thead th {\n",
       "        text-align: right;\n",
       "    }\n",
       "</style>\n",
       "<table border=\"1\" class=\"dataframe\">\n",
       "  <thead>\n",
       "    <tr style=\"text-align: right;\">\n",
       "      <th></th>\n",
       "      <th>Team</th>\n",
       "      <th>Player</th>\n",
       "      <th>Event</th>\n",
       "      <th>Mins</th>\n",
       "      <th>Secs</th>\n",
       "      <th>X</th>\n",
       "      <th>Y</th>\n",
       "      <th>X2</th>\n",
       "      <th>Y2</th>\n",
       "    </tr>\n",
       "  </thead>\n",
       "  <tbody>\n",
       "    <tr>\n",
       "      <th>0</th>\n",
       "      <td>Home</td>\n",
       "      <td>-</td>\n",
       "      <td>Shot Missed</td>\n",
       "      <td>0</td>\n",
       "      <td>0</td>\n",
       "      <td>77</td>\n",
       "      <td>29</td>\n",
       "      <td>-</td>\n",
       "      <td>-</td>\n",
       "    </tr>\n",
       "    <tr>\n",
       "      <th>1</th>\n",
       "      <td>Home</td>\n",
       "      <td>-</td>\n",
       "      <td>Shot Missed</td>\n",
       "      <td>0</td>\n",
       "      <td>0</td>\n",
       "      <td>78</td>\n",
       "      <td>72</td>\n",
       "      <td>-</td>\n",
       "      <td>-</td>\n",
       "    </tr>\n",
       "    <tr>\n",
       "      <th>2</th>\n",
       "      <td>Home</td>\n",
       "      <td>-</td>\n",
       "      <td>Shot Missed</td>\n",
       "      <td>0</td>\n",
       "      <td>0</td>\n",
       "      <td>92</td>\n",
       "      <td>82</td>\n",
       "      <td>-</td>\n",
       "      <td>-</td>\n",
       "    </tr>\n",
       "    <tr>\n",
       "      <th>3</th>\n",
       "      <td>Home</td>\n",
       "      <td>-</td>\n",
       "      <td>Shot on Target</td>\n",
       "      <td>0</td>\n",
       "      <td>0</td>\n",
       "      <td>90</td>\n",
       "      <td>64</td>\n",
       "      <td>-</td>\n",
       "      <td>-</td>\n",
       "    </tr>\n",
       "    <tr>\n",
       "      <th>4</th>\n",
       "      <td>Home</td>\n",
       "      <td>-</td>\n",
       "      <td>Shot on Target</td>\n",
       "      <td>0</td>\n",
       "      <td>0</td>\n",
       "      <td>91</td>\n",
       "      <td>43</td>\n",
       "      <td>-</td>\n",
       "      <td>-</td>\n",
       "    </tr>\n",
       "    <tr>\n",
       "      <th>5</th>\n",
       "      <td>Home</td>\n",
       "      <td>-</td>\n",
       "      <td>Shot on Target</td>\n",
       "      <td>0</td>\n",
       "      <td>0</td>\n",
       "      <td>97</td>\n",
       "      <td>46</td>\n",
       "      <td>-</td>\n",
       "      <td>-</td>\n",
       "    </tr>\n",
       "  </tbody>\n",
       "</table>\n",
       "</div>"
      ],
      "text/plain": [
       "   Team Player           Event  Mins  Secs   X   Y X2 Y2\n",
       "0  Home      -     Shot Missed     0     0  77  29  -  -\n",
       "1  Home      -     Shot Missed     0     0  78  72  -  -\n",
       "2  Home      -     Shot Missed     0     0  92  82  -  -\n",
       "3  Home      -  Shot on Target     0     0  90  64  -  -\n",
       "4  Home      -  Shot on Target     0     0  91  43  -  -\n",
       "5  Home      -  Shot on Target     0     0  97  46  -  -"
      ]
     },
     "execution_count": 112,
     "metadata": {},
     "output_type": "execute_result"
    }
   ],
   "source": [
    "data"
   ]
  },
  {
   "cell_type": "code",
   "execution_count": 124,
   "id": "894c43ab",
   "metadata": {},
   "outputs": [
    {
     "data": {
      "text/plain": [
       "Text(0.5, 1.0, 'Shot Location Map')"
      ]
     },
     "execution_count": 124,
     "metadata": {},
     "output_type": "execute_result"
    },
    {
     "data": {
      "image/png": "[encoded data removed]",
      "text/plain": [
       "<Figure size 1152x792 with 1 Axes>"
      ]
     },
     "metadata": {},
     "output_type": "display_data"
    }
   ],
   "source": [
    "pitch = Pitch(pitch_type='opta',goal_type='box', pitch_color='#aabb97', line_color='#c7d5cc', half=True)\n",
    "fig, ax = pitch.draw(figsize=(16, 11), constrained_layout=True, tight_layout=False)\n",
    "fig.set_facecolor('#aabb97')\n",
    "\n",
    "\n",
    "plt.gca().invert_yaxis()\n",
    "\n",
    "for x in range(len(data['X'])):\n",
    "    if data['Event'][x] == 'Shot on Target':\n",
    "        plt.scatter(data['X'][x], data['Y'][x],color='green', s=100, alpha=.7)\n",
    "    if data['Event'][x] == 'Shot Missed':\n",
    "        plt.scatter(data['X'][x], data['Y'][x],color='red', s=100, alpha=.7)\n",
    "\n",
    "\n",
    "plt.title('Shot Location Map', size=30)"
   ]
  },
  {
   "cell_type": "code",
   "execution_count": null,
   "id": "bed461ec",
   "metadata": {},
   "outputs": [],
   "source": []
  },
  {
   "cell_type": "code",
   "execution_count": null,
   "id": "c9996b12",
   "metadata": {},
   "outputs": [],
   "source": []
  }
 ],
 "metadata": {
  "kernelspec": {
   "display_name": "Python 3",
   "language": "python",
   "name": "python3"
  },
  "language_info": {
   "codemirror_mode": {
    "name": "ipython",
    "version": 3
   },
   "file_extension": ".py",
   "mimetype": "text/x-python",
   "name": "python",
   "nbconvert_exporter": "python",
   "pygments_lexer": "ipython3",
   "version": "3.8.8"
  }
 },
 "nbformat": 4,
 "nbformat_minor": 5
}
